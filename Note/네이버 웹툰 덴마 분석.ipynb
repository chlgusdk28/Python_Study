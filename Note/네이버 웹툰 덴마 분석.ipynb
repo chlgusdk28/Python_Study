{
 "cells": [
  {
   "cell_type": "code",
   "execution_count": 16,
   "metadata": {},
   "outputs": [
    {
     "ename": "SyntaxError",
     "evalue": "EOL while scanning string literal (<ipython-input-16-0673dc48d275>, line 7)",
     "output_type": "error",
     "traceback": [
      "\u001b[1;36m  File \u001b[1;32m\"<ipython-input-16-0673dc48d275>\"\u001b[1;36m, line \u001b[1;32m7\u001b[0m\n\u001b[1;33m    url='https://comic.naver.com/webtoon/list.nhn?titleId=119874&page='+[page]\"\u001b[0m\n\u001b[1;37m                                                                               ^\u001b[0m\n\u001b[1;31mSyntaxError\u001b[0m\u001b[1;31m:\u001b[0m EOL while scanning string literal\n"
     ]
    }
   ],
   "source": [
    "# 덴마 평점 분석하기 \n",
    "from bs4 import BeautifulSoup\n",
    "import urllib.request as req\n",
    "\n",
    "#총 420여화 \n",
    "for page in range(42):\n",
    "    url='https://comic.naver.com/webtoon/list.nhn?titleId=119874&page='+[page]\"\n",
    "    print(url)\n",
    "for ulrlist\n",
    "#data 가져오기\n",
    "res =req.urlopen(url)\n",
    "\n",
    "\n",
    "#뷰티풀숩으로 분석\n",
    "soup = BeautifulSoup(res,'html.parser')\n",
    "\n",
    "\n",
    "stars = soup.select(\"div.rating_type > strong\") \n",
    "\n",
    "for star in stars :\n",
    "    print(\"star=\",star.string)"
   ]
  },
  {
   "cell_type": "code",
   "execution_count": null,
   "metadata": {},
   "outputs": [],
   "source": []
  }
 ],
 "metadata": {
  "kernelspec": {
   "display_name": "Python 3",
   "language": "python",
   "name": "python3"
  },
  "language_info": {
   "codemirror_mode": {
    "name": "ipython",
    "version": 3
   },
   "file_extension": ".py",
   "mimetype": "text/x-python",
   "name": "python",
   "nbconvert_exporter": "python",
   "pygments_lexer": "ipython3",
   "version": "3.8.5"
  }
 },
 "nbformat": 4,
 "nbformat_minor": 4
}
