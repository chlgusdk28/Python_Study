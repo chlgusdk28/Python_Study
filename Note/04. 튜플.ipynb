{
 "cells": [
  {
   "cell_type": "markdown",
   "metadata": {},
   "source": [
    "#튜플 자료형 \n",
    ": 튜플은 다음과 같은 점을 제외하곤 리스트와 거의 비슷하다.\n",
    "-(,)로 사용 \n",
    "- 리스트는 그 값을 생성, 삭제, 수정이 가능하지만 튜플은 값을 바꿀수 없다.\n",
    "\n",
    "프로그램 작성시 생성된 데이터값을 변화시키면서 사용하고자 하면 리스트를 사용.\n",
    "한번 생성된 데이터 값이 변경되는것을 막고자 하면 튜플을 사용.\n",
    "프로그램 작성시 평균적으로 튜플보다 리스트를 많이 사용한다.\n"
   ]
  },
  {
   "cell_type": "markdown",
   "metadata": {},
   "source": [
    "#튜플의 선언 "
   ]
  },
  {
   "cell_type": "code",
   "execution_count": 3,
   "metadata": {},
   "outputs": [
    {
     "name": "stdout",
     "output_type": "stream",
     "text": [
      "('a', 'b', ('ab', 'cd'))\n",
      "ab\n"
     ]
    }
   ],
   "source": [
    "var01=()\n",
    "var01=(1)\n",
    "var01=(1,2,3)\n",
    "var01=1,2,3\n",
    "var01=('a','b',('ab','cd'))\n",
    "print(var01)\n",
    "print(var01[2][0])"
   ]
  },
  {
   "cell_type": "code",
   "execution_count": null,
   "metadata": {},
   "outputs": [],
   "source": []
  }
 ],
 "metadata": {
  "kernelspec": {
   "display_name": "Python 3",
   "language": "python",
   "name": "python3"
  },
  "language_info": {
   "codemirror_mode": {
    "name": "ipython",
    "version": 3
   },
   "file_extension": ".py",
   "mimetype": "text/x-python",
   "name": "python",
   "nbconvert_exporter": "python",
   "pygments_lexer": "ipython3",
   "version": "3.8.5"
  }
 },
 "nbformat": 4,
 "nbformat_minor": 4
}
