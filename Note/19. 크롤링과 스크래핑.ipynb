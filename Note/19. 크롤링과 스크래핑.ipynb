{
 "cells": [
  {
   "cell_type": "markdown",
   "metadata": {},
   "source": [
    "# 데이터 다운로드 하기 - 1\n",
    ": 인터넷에서 지정된 파일을 바로 내 pc에 저장하기"
   ]
  },
  {
   "cell_type": "code",
   "execution_count": 1,
   "metadata": {},
   "outputs": [
    {
     "name": "stdout",
     "output_type": "stream",
     "text": [
      "저장되었습니다\n"
     ]
    }
   ],
   "source": [
    "import urllib.request\n",
    "# URL과 지정경로 지정하기\n",
    "url = \"http://uta.pw/shodou/img/28/214.png\"\n",
    "savename = \"../Data/test.png\"\n",
    "\n",
    "# 다운로드 하기 \n",
    "urllib.request.urlretrieve(url, savename)\n",
    "print(\"저장되었습니다\")"
   ]
  },
  {
   "cell_type": "markdown",
   "metadata": {},
   "source": [
    "# 데이터 다운로드 하기 --02\n",
    ": 인터넷에 지정된 파일을 메모리에 올리고 저장하기"
   ]
  },
  {
   "cell_type": "code",
   "execution_count": 2,
   "metadata": {},
   "outputs": [
    {
     "name": "stdout",
     "output_type": "stream",
     "text": [
      "저장 되었습니다!\n"
     ]
    }
   ],
   "source": [
    "import urllib.request\n",
    "# URL과 지정경로 지정하기\n",
    "url = \"http://uta.pw/shodou/img/28/214.png\"\n",
    "savename = \"../Data/test02.png\"\n",
    "\n",
    "# 다운로드 하기 \n",
    "mem = urllib.request.urlopen(url).read()\n",
    "\n",
    "#파일로 저장하기\n",
    "with open(savename, \"wb\") as f:\n",
    "    f.write(mem)\n",
    "print(\"저장 되었습니다!\")    \n"
   ]
  },
  {
   "cell_type": "code",
   "execution_count": 3,
   "metadata": {},
   "outputs": [
    {
     "name": "stdout",
     "output_type": "stream",
     "text": [
      "[ip]\n",
      "API_URI=http://api.aoikujira.com/ip/get.php\n",
      "REMOTE_ADDR=59.187.209.41\n",
      "REMOTE_HOST=59.187.209.41\n",
      "REMOTE_PORT=59214\n",
      "HTTP_HOST=api.aoikujira.com\n",
      "HTTP_USER_AGENT=Python-urllib/3.8\n",
      "HTTP_ACCEPT_LANGUAGE=\n",
      "HTTP_ACCEPT_CHARSET=\n",
      "SERVER_PORT=80\n",
      "FORMAT=ini\n",
      "\n",
      "\n"
     ]
    }
   ],
   "source": [
    "#웹에서 데이터 추출하기\n",
    "import urllib.request\n",
    "\n",
    "#데이터 읽어 들이기 \n",
    "url = \"http://api.aoikujira.com/ip/ini\"\n",
    "res = urllib.request.urlopen(url)\n",
    "\n",
    "data = res.read()\n",
    "\n",
    "#문자열 변환\n",
    "text = data.decode(\"UTF-8\")\n",
    "print(text)"
   ]
  },
  {
   "cell_type": "code",
   "execution_count": 4,
   "metadata": {},
   "outputs": [
    {
     "ename": "SyntaxError",
     "evalue": "invalid syntax (<ipython-input-4-ed726ce89fdc>, line 2)",
     "output_type": "error",
     "traceback": [
      "\u001b[1;36m  File \u001b[1;32m\"<ipython-input-4-ed726ce89fdc>\"\u001b[1;36m, line \u001b[1;32m2\u001b[0m\n\u001b[1;33m    기상청 RSS : http://www.kma.go.kr/weather/forecast/mid-term-rss3.jsp\u001b[0m\n\u001b[1;37m        ^\u001b[0m\n\u001b[1;31mSyntaxError\u001b[0m\u001b[1;31m:\u001b[0m invalid syntax\n"
     ]
    }
   ],
   "source": [
    "# 매개변수를 추가해 요청을 전송하는 방법\n",
    "기상청 RSS : http://www.kma.go.kr/weather/forecast/mid-term-rss3.jsp\n",
    "URL 뒤에 매개변수를 입력하여 지역별로 일기 정보를 가져올 수 있음.\n",
    "전국 : 108, 서울/경기도 : 109 , 강원도 : 105, 제주특별자치도 : 184\n"
   ]
  }
 ],
 "metadata": {
  "kernelspec": {
   "display_name": "Python 3",
   "language": "python",
   "name": "python3"
  },
  "language_info": {
   "codemirror_mode": {
    "name": "ipython",
    "version": 3
   },
   "file_extension": ".py",
   "mimetype": "text/x-python",
   "name": "python",
   "nbconvert_exporter": "python",
   "pygments_lexer": "ipython3",
   "version": "3.8.5"
  }
 },
 "nbformat": 4,
 "nbformat_minor": 4
}
